{
 "cells": [
  {
   "cell_type": "code",
   "execution_count": 1,
   "metadata": {},
   "outputs": [],
   "source": [
    "### Reflecting DB\n",
    "import sqlalchemy\n",
    "from sqlalchemy.ext.automap import automap_base\n",
    "from sqlalchemy.orm import Session\n",
    "from sqlalchemy import create_engine\n",
    "from sqlalchemy import Column, Integer, String, Float\n",
    "from sqlalchemy.ext.declarative import declarative_base\n",
    "from sqlalchemy import func\n",
    "\n"
   ]
  },
  {
   "cell_type": "code",
   "execution_count": 2,
   "metadata": {},
   "outputs": [
    {
     "data": {
      "text/plain": [
       "['Cces_16']"
      ]
     },
     "execution_count": 2,
     "metadata": {},
     "output_type": "execute_result"
    }
   ],
   "source": [
    "# Create the engine to connect to a sqlite file.\n",
    "engine = create_engine(\"sqlite:///db/CCES_Ver61.sqlite\")\n",
    "\n",
    "# Declare a base using automap_base()\n",
    "Base = automap_base()\n",
    "\n",
    "\n",
    "Base.prepare(engine, reflect=True)\n",
    "\n",
    "# Print all of the classses mapped to the Base (this provides a list of the table names in the sqlite.db)\n",
    "Base.classes.keys()"
   ]
  },
  {
   "cell_type": "code",
   "execution_count": 3,
   "metadata": {},
   "outputs": [],
   "source": [
    "# Assign the CCES_16 class to a variable called 'CCES'\n",
    "CCES = Base.classes.Cces_16"
   ]
  },
  {
   "cell_type": "code",
   "execution_count": 4,
   "metadata": {},
   "outputs": [],
   "source": [
    "# Create a variable to manage session.queries later on...\n",
    "session = Session(engine)\n",
    "# session = Session(bind = engine)"
   ]
  },
  {
   "cell_type": "code",
   "execution_count": 5,
   "metadata": {},
   "outputs": [],
   "source": [
    "#############################################\n",
    "# Dropdown Variables mapped to Sql...\n",
    "#############################################\n",
    "\n",
    "# Gun Questions\n",
    "GunBackgroundChecks_16 = CCES.GunBackgroundChecks_16\n",
    "ProhibitPublication_16 = CCES.ProhibitPublication_16\n",
    "BanAssultWeapons_16 = CCES.BanAssultWeapons_16\n",
    "MakeCCPEasier_16 = CCES.MakeCCPEasier_16\n",
    "\n",
    "# Abortion Questions\n",
    "AlwaysAllowChoice_16 = CCES.AlwaysAllowChoice_16\n",
    "RapeIncestorHealth_16 = CCES.RapeIncestorHealth_16\n",
    "ProhibitMoreThan20Weeks_16 = CCES.ProhibitMoreThan20Weeks_16\n",
    "Employersdeclinebenefits_16 = CCES.Employersdeclinebenefits_16\n",
    "ProhibitFedFunds_16 = CCES.ProhibitFedFunds_16\n",
    "\n",
    "# Gay Marriage Question\n",
    "GayMarriage = CCES.GayMarriage\n",
    "#############################################"
   ]
  },
  {
   "cell_type": "markdown",
   "metadata": {},
   "source": [
    "# Flask Route - metadata totals testing"
   ]
  },
  {
   "cell_type": "code",
   "execution_count": 6,
   "metadata": {},
   "outputs": [],
   "source": [
    "#############################################\n",
    "# Creating metadata totals function for metadata totals flask route\n",
    "#############################################"
   ]
  },
  {
   "cell_type": "code",
   "execution_count": 7,
   "metadata": {},
   "outputs": [],
   "source": [
    "#############################################\n",
    "# Function to return Totals - Total Support and Total Oppose for each issue\n",
    "#############################################\n",
    "def sample_metadatatotals(sample):\n",
    "    \"\"\"Return the totals for a given sample\"\"\"\n",
    "    TotalResults = []\n",
    "    \n",
    "    Approve = {}\n",
    "    Oppose = {}\n",
    "    \n",
    "    ApproveTemp = session.query(CCES).filter(sample == 'Support').count()\n",
    "    Approve['Approve'] = ApproveTemp\n",
    "    TotalResults.append(Approve)\n",
    "    \n",
    "    OpposeTemp = session.query(CCES).filter(sample == 'Oppose').count()\n",
    "    Oppose['Oppose'] = OpposeTemp\n",
    "    TotalResults.append(Oppose)\n",
    "\n",
    "    print(TotalResults)\n",
    "#     return jsonify(TotalResults)"
   ]
  },
  {
   "cell_type": "code",
   "execution_count": 8,
   "metadata": {},
   "outputs": [
    {
     "name": "stdout",
     "output_type": "stream",
     "text": [
      "[{'Approve': 40955}, {'Oppose': 21926}]\n"
     ]
    }
   ],
   "source": [
    "#############################################\n",
    "# Metadatatotals Function Testing 1\n",
    "\n",
    "sample_metadatatotals(GayMarriage)"
   ]
  },
  {
   "cell_type": "code",
   "execution_count": 9,
   "metadata": {},
   "outputs": [
    {
     "name": "stdout",
     "output_type": "stream",
     "text": [
      "[{'Approve': 56810}, {'Oppose': 6071}]\n"
     ]
    }
   ],
   "source": [
    "#############################################\n",
    "# Metadatatotals Function Testing 2\n",
    "\n",
    "sample_metadatatotals(CCES.GunBackgroundChecks_16)"
   ]
  },
  {
   "cell_type": "code",
   "execution_count": 10,
   "metadata": {},
   "outputs": [
    {
     "name": "stdout",
     "output_type": "stream",
     "text": [
      "Sqlite query of votes supporting Gay Marrige: 40955\n",
      "Sqlite query of votes opposint Gay Marriage: 21926\n"
     ]
    }
   ],
   "source": [
    "#############################################\n",
    "# Metadatatotals Function - without function - direct query to verify results\n",
    "\n",
    "ApproveGay = session.query(CCES).filter(CCES.GayMarriage == 'Support').count()\n",
    "OpposeGay = session.query(CCES).filter(CCES.GayMarriage == 'Oppose').count()\n",
    "print(f'Sqlite query of votes supporting Gay Marrige: {ApproveGay}')\n",
    "print(f'Sqlite query of votes opposint Gay Marriage: {OpposeGay}')"
   ]
  },
  {
   "cell_type": "markdown",
   "metadata": {},
   "source": [
    "# Flask Route - Metadata States Groupby Results"
   ]
  },
  {
   "cell_type": "code",
   "execution_count": 11,
   "metadata": {},
   "outputs": [],
   "source": [
    "#############################################\n",
    "# Metadata States Groupby Function\n",
    "#############################################\n",
    "\n",
    "def Metadata_States(sample):\n",
    "    \n",
    "    # Query to create two lists of tuples (state, number)\n",
    "    StatesFor = session.query(CCES.StateName, func.count(sample)).\\\n",
    "                filter(sample == 'Support').\\\n",
    "                group_by(CCES.StateName).all()\n",
    "    StatesNot = session.query(CCES.StateName, func.count(sample)).\\\n",
    "                filter(sample == 'Oppose').\\\n",
    "                group_by(CCES.StateName).all()\n",
    "\n",
    "    # List that will hold final dictionaries - to be jsonified\n",
    "    States_Results = []\n",
    "    \n",
    "    for i, j in zip(StatesFor, StatesNot):\n",
    "\n",
    "        tempfile = {}\n",
    "        tempfile['State'] = i[0]\n",
    "        tempfile['Support'] = i[1]\n",
    "        tempfile['Oppose'] = j[1]\n",
    "        if i[1] > j[1]:\n",
    "            tempoverall = 'Support'\n",
    "        else:\n",
    "            tempoverall = 'Oppose'\n",
    "        tempfile['Overall'] = tempoverall\n",
    "\n",
    "        States_Results.append(tempfile)\n",
    "\n",
    "    return States_Results\n",
    "    \n",
    "            "
   ]
  },
  {
   "cell_type": "code",
   "execution_count": 12,
   "metadata": {},
   "outputs": [
    {
     "data": {
      "text/plain": [
       "[{'State': 'Alabama', 'Support': 676, 'Oppose': 88, 'Overall': 'Support'},\n",
       " {'State': 'Alaska', 'Support': 85, 'Oppose': 24, 'Overall': 'Support'},\n",
       " {'State': 'Arizona', 'Support': 1265, 'Oppose': 200, 'Overall': 'Support'},\n",
       " {'State': 'Arkansas', 'Support': 465, 'Oppose': 60, 'Overall': 'Support'},\n",
       " {'State': 'California', 'Support': 5367, 'Oppose': 493, 'Overall': 'Support'},\n",
       " {'State': 'Colorado', 'Support': 863, 'Oppose': 121, 'Overall': 'Support'},\n",
       " {'State': 'Connecticut', 'Support': 660, 'Oppose': 50, 'Overall': 'Support'},\n",
       " {'State': 'Delaware', 'Support': 243, 'Oppose': 18, 'Overall': 'Support'},\n",
       " {'State': 'District of Columbia',\n",
       "  'Support': 171,\n",
       "  'Oppose': 15,\n",
       "  'Overall': 'Support'},\n",
       " {'State': 'Florida', 'Support': 4440, 'Oppose': 415, 'Overall': 'Support'},\n",
       " {'State': 'Georgia', 'Support': 1804, 'Oppose': 196, 'Overall': 'Support'},\n",
       " {'State': 'Hawaii', 'Support': 182, 'Oppose': 10, 'Overall': 'Support'},\n",
       " {'State': 'Idaho', 'Support': 254, 'Oppose': 63, 'Overall': 'Support'},\n",
       " {'State': 'Illinois', 'Support': 2379, 'Oppose': 190, 'Overall': 'Support'},\n",
       " {'State': 'Indiana', 'Support': 1259, 'Oppose': 109, 'Overall': 'Support'},\n",
       " {'State': 'Iowa', 'Support': 608, 'Oppose': 61, 'Overall': 'Support'},\n",
       " {'State': 'Kansas', 'Support': 472, 'Oppose': 58, 'Overall': 'Support'},\n",
       " {'State': 'Kentucky', 'Support': 809, 'Oppose': 100, 'Overall': 'Support'},\n",
       " {'State': 'Louisiana', 'Support': 604, 'Oppose': 72, 'Overall': 'Support'},\n",
       " {'State': 'Maine', 'Support': 232, 'Oppose': 92, 'Overall': 'Support'},\n",
       " {'State': 'Maryland', 'Support': 1089, 'Oppose': 78, 'Overall': 'Support'},\n",
       " {'State': 'Massachusetts',\n",
       "  'Support': 1315,\n",
       "  'Oppose': 87,\n",
       "  'Overall': 'Support'},\n",
       " {'State': 'Michigan', 'Support': 1902, 'Oppose': 170, 'Overall': 'Support'},\n",
       " {'State': 'Minnesota', 'Support': 934, 'Oppose': 120, 'Overall': 'Support'},\n",
       " {'State': 'Mississippi', 'Support': 358, 'Oppose': 41, 'Overall': 'Support'},\n",
       " {'State': 'Missouri', 'Support': 1124, 'Oppose': 146, 'Overall': 'Support'},\n",
       " {'State': 'Montana', 'Support': 131, 'Oppose': 56, 'Overall': 'Support'},\n",
       " {'State': 'Nebraska', 'Support': 326, 'Oppose': 36, 'Overall': 'Support'},\n",
       " {'State': 'Nevada', 'Support': 559, 'Oppose': 127, 'Overall': 'Support'},\n",
       " {'State': 'New Hampshire',\n",
       "  'Support': 333,\n",
       "  'Oppose': 32,\n",
       "  'Overall': 'Support'},\n",
       " {'State': 'New Jersey', 'Support': 1685, 'Oppose': 99, 'Overall': 'Support'},\n",
       " {'State': 'New Mexico', 'Support': 326, 'Oppose': 48, 'Overall': 'Support'},\n",
       " {'State': 'New York', 'Support': 3922, 'Oppose': 280, 'Overall': 'Support'},\n",
       " {'State': 'North Carolina',\n",
       "  'Support': 1754,\n",
       "  'Oppose': 200,\n",
       "  'Overall': 'Support'},\n",
       " {'State': 'North Dakota', 'Support': 109, 'Oppose': 14, 'Overall': 'Support'},\n",
       " {'State': 'Ohio', 'Support': 2370, 'Oppose': 270, 'Overall': 'Support'},\n",
       " {'State': 'Oklahoma', 'Support': 528, 'Oppose': 78, 'Overall': 'Support'},\n",
       " {'State': 'Oregon', 'Support': 856, 'Oppose': 125, 'Overall': 'Support'},\n",
       " {'State': 'Pennsylvania',\n",
       "  'Support': 3195,\n",
       "  'Oppose': 244,\n",
       "  'Overall': 'Support'},\n",
       " {'State': 'Rhode Island', 'Support': 196, 'Oppose': 11, 'Overall': 'Support'},\n",
       " {'State': 'South Carolina',\n",
       "  'Support': 761,\n",
       "  'Oppose': 75,\n",
       "  'Overall': 'Support'},\n",
       " {'State': 'South Dakota', 'Support': 137, 'Oppose': 25, 'Overall': 'Support'},\n",
       " {'State': 'Tennessee', 'Support': 1059, 'Oppose': 126, 'Overall': 'Support'},\n",
       " {'State': 'Texas', 'Support': 3839, 'Oppose': 483, 'Overall': 'Support'},\n",
       " {'State': 'Utah', 'Support': 432, 'Oppose': 75, 'Overall': 'Support'},\n",
       " {'State': 'Vermont', 'Support': 110, 'Oppose': 17, 'Overall': 'Support'},\n",
       " {'State': 'Virginia', 'Support': 1758, 'Oppose': 193, 'Overall': 'Support'},\n",
       " {'State': 'Washington', 'Support': 1237, 'Oppose': 169, 'Overall': 'Support'},\n",
       " {'State': 'West Virginia',\n",
       "  'Support': 364,\n",
       "  'Oppose': 55,\n",
       "  'Overall': 'Support'},\n",
       " {'State': 'Wisconsin', 'Support': 1181, 'Oppose': 140, 'Overall': 'Support'},\n",
       " {'State': 'Wyoming', 'Support': 82, 'Oppose': 16, 'Overall': 'Support'}]"
      ]
     },
     "execution_count": 12,
     "metadata": {},
     "output_type": "execute_result"
    }
   ],
   "source": [
    "#############################################\n",
    "# Metadata States Function Testing 1\n",
    "\n",
    "Metadata_States(GunBackgroundChecks_16)"
   ]
  },
  {
   "cell_type": "code",
   "execution_count": 13,
   "metadata": {},
   "outputs": [
    {
     "name": "stdout",
     "output_type": "stream",
     "text": [
      "[('Alabama', 676), ('Alaska', 85), ('Arizona', 1265), ('Arkansas', 465), ('California', 5367)]\n",
      "[('Alabama', 88), ('Alaska', 24), ('Arizona', 200), ('Arkansas', 60), ('California', 493)]\n"
     ]
    }
   ],
   "source": [
    "#############################################\n",
    "# Filter by state how many respondents were supportive of Gun Background Checks\n",
    "#############################################\n",
    "\n",
    "StatesFor = session.query(CCES.StateName, func.count(CCES.GunBackgroundChecks_16)).filter(CCES.GunBackgroundChecks_16 == 'Support').group_by(CCES.StateName).all()\n",
    "StatesNot = session.query(CCES.StateName, func.count(CCES.GunBackgroundChecks_16)).filter(CCES.GunBackgroundChecks_16 == 'Oppose').group_by(CCES.StateName).all()\n",
    "print(StatesFor[0:5])\n",
    "print(StatesNot[0:5])"
   ]
  },
  {
   "cell_type": "code",
   "execution_count": 14,
   "metadata": {},
   "outputs": [
    {
     "data": {
      "text/plain": [
       "[{'State': 'Alabama', 'Support': 397, 'Oppose': 367, 'Overall': 'Support'},\n",
       " {'State': 'Alaska', 'Support': 58, 'Oppose': 51, 'Overall': 'Support'},\n",
       " {'State': 'Arizona', 'Support': 867, 'Oppose': 598, 'Overall': 'Support'},\n",
       " {'State': 'Arkansas', 'Support': 231, 'Oppose': 294, 'Overall': 'Oppose'},\n",
       " {'State': 'California',\n",
       "  'Support': 4078,\n",
       "  'Oppose': 1782,\n",
       "  'Overall': 'Support'},\n",
       " {'State': 'Colorado', 'Support': 619, 'Oppose': 365, 'Overall': 'Support'},\n",
       " {'State': 'Connecticut', 'Support': 493, 'Oppose': 217, 'Overall': 'Support'},\n",
       " {'State': 'Delaware', 'Support': 187, 'Oppose': 74, 'Overall': 'Support'},\n",
       " {'State': 'District of Columbia',\n",
       "  'Support': 152,\n",
       "  'Oppose': 34,\n",
       "  'Overall': 'Support'},\n",
       " {'State': 'Florida', 'Support': 3111, 'Oppose': 1744, 'Overall': 'Support'},\n",
       " {'State': 'Georgia', 'Support': 1193, 'Oppose': 807, 'Overall': 'Support'},\n",
       " {'State': 'Hawaii', 'Support': 142, 'Oppose': 50, 'Overall': 'Support'},\n",
       " {'State': 'Idaho', 'Support': 163, 'Oppose': 154, 'Overall': 'Support'},\n",
       " {'State': 'Illinois', 'Support': 1777, 'Oppose': 792, 'Overall': 'Support'},\n",
       " {'State': 'Indiana', 'Support': 734, 'Oppose': 634, 'Overall': 'Support'},\n",
       " {'State': 'Iowa', 'Support': 370, 'Oppose': 299, 'Overall': 'Support'},\n",
       " {'State': 'Kansas', 'Support': 285, 'Oppose': 245, 'Overall': 'Support'},\n",
       " {'State': 'Kentucky', 'Support': 430, 'Oppose': 479, 'Overall': 'Oppose'},\n",
       " {'State': 'Louisiana', 'Support': 328, 'Oppose': 348, 'Overall': 'Oppose'},\n",
       " {'State': 'Maine', 'Support': 196, 'Oppose': 128, 'Overall': 'Support'},\n",
       " {'State': 'Maryland', 'Support': 833, 'Oppose': 334, 'Overall': 'Support'},\n",
       " {'State': 'Massachusetts',\n",
       "  'Support': 1051,\n",
       "  'Oppose': 351,\n",
       "  'Overall': 'Support'},\n",
       " {'State': 'Michigan', 'Support': 1235, 'Oppose': 837, 'Overall': 'Support'},\n",
       " {'State': 'Minnesota', 'Support': 651, 'Oppose': 403, 'Overall': 'Support'},\n",
       " {'State': 'Mississippi', 'Support': 205, 'Oppose': 194, 'Overall': 'Support'},\n",
       " {'State': 'Missouri', 'Support': 669, 'Oppose': 601, 'Overall': 'Support'},\n",
       " {'State': 'Montana', 'Support': 93, 'Oppose': 94, 'Overall': 'Oppose'},\n",
       " {'State': 'Nebraska', 'Support': 201, 'Oppose': 161, 'Overall': 'Support'},\n",
       " {'State': 'Nevada', 'Support': 484, 'Oppose': 202, 'Overall': 'Support'},\n",
       " {'State': 'New Hampshire',\n",
       "  'Support': 251,\n",
       "  'Oppose': 114,\n",
       "  'Overall': 'Support'},\n",
       " {'State': 'New Jersey', 'Support': 1223, 'Oppose': 561, 'Overall': 'Support'},\n",
       " {'State': 'New Mexico', 'Support': 239, 'Oppose': 135, 'Overall': 'Support'},\n",
       " {'State': 'New York', 'Support': 3043, 'Oppose': 1159, 'Overall': 'Support'},\n",
       " {'State': 'North Carolina',\n",
       "  'Support': 1159,\n",
       "  'Oppose': 795,\n",
       "  'Overall': 'Support'},\n",
       " {'State': 'North Dakota', 'Support': 70, 'Oppose': 53, 'Overall': 'Support'},\n",
       " {'State': 'Ohio', 'Support': 1512, 'Oppose': 1128, 'Overall': 'Support'},\n",
       " {'State': 'Oklahoma', 'Support': 297, 'Oppose': 309, 'Overall': 'Oppose'},\n",
       " {'State': 'Oregon', 'Support': 634, 'Oppose': 347, 'Overall': 'Support'},\n",
       " {'State': 'Pennsylvania',\n",
       "  'Support': 1978,\n",
       "  'Oppose': 1461,\n",
       "  'Overall': 'Support'},\n",
       " {'State': 'Rhode Island', 'Support': 150, 'Oppose': 57, 'Overall': 'Support'},\n",
       " {'State': 'South Carolina',\n",
       "  'Support': 418,\n",
       "  'Oppose': 418,\n",
       "  'Overall': 'Oppose'},\n",
       " {'State': 'South Dakota', 'Support': 88, 'Oppose': 74, 'Overall': 'Support'},\n",
       " {'State': 'Tennessee', 'Support': 591, 'Oppose': 594, 'Overall': 'Oppose'},\n",
       " {'State': 'Texas', 'Support': 2514, 'Oppose': 1808, 'Overall': 'Support'},\n",
       " {'State': 'Utah', 'Support': 216, 'Oppose': 291, 'Overall': 'Oppose'},\n",
       " {'State': 'Vermont', 'Support': 92, 'Oppose': 35, 'Overall': 'Support'},\n",
       " {'State': 'Virginia', 'Support': 1188, 'Oppose': 763, 'Overall': 'Support'},\n",
       " {'State': 'Washington', 'Support': 963, 'Oppose': 443, 'Overall': 'Support'},\n",
       " {'State': 'West Virginia',\n",
       "  'Support': 183,\n",
       "  'Oppose': 236,\n",
       "  'Overall': 'Oppose'},\n",
       " {'State': 'Wisconsin', 'Support': 771, 'Oppose': 550, 'Overall': 'Support'},\n",
       " {'State': 'Wyoming', 'Support': 56, 'Oppose': 42, 'Overall': 'Support'}]"
      ]
     },
     "execution_count": 14,
     "metadata": {},
     "output_type": "execute_result"
    }
   ],
   "source": [
    "#############################################\n",
    "# Groupby Function testing before building function\n",
    "#############################################\n",
    "StatesForAbortion = session.query(CCES.StateName, func.count(CCES.AlwaysAllowChoice_16)).filter(CCES.AlwaysAllowChoice_16 == 'Support').group_by(CCES.StateName).all()\n",
    "StatesNotAbortion = session.query(CCES.StateName, func.count(CCES.AlwaysAllowChoice_16)).filter(CCES.AlwaysAllowChoice_16 == 'Oppose').group_by(CCES.StateName).all()\n",
    "\n",
    "ThirdTry = []\n",
    "\n",
    "for i, j in zip(StatesForAbortion, StatesNotAbortion):\n",
    "\n",
    "    tempfile = {}\n",
    "    tempfile['State'] = i[0]\n",
    "    tempfile['Support'] = i[1]\n",
    "    tempfile['Oppose'] = j[1]\n",
    "    if i[1] > j[1]:\n",
    "        tempoverall = 'Support'\n",
    "    else:\n",
    "        tempoverall = 'Oppose'\n",
    "    tempfile['Overall'] = tempoverall\n",
    "        \n",
    "    ThirdTry.append(tempfile)\n",
    "ThirdTry"
   ]
  },
  {
   "cell_type": "code",
   "execution_count": 15,
   "metadata": {},
   "outputs": [
    {
     "name": "stdout",
     "output_type": "stream",
     "text": [
      "5860\n",
      "4119\n",
      "1741\n"
     ]
    }
   ],
   "source": [
    "#############################################\n",
    "# Testing Groupby by specific state\n",
    "# Filter by state how many respondents were supportive of Gun Background Checks\n",
    "#############################################\n",
    "AlabamaTotalExample = session.query(CCES.StateName, CCES.GayMarriage).filter(CCES.StateName == 'California').count()\n",
    "AlabamaForExample = session.query(CCES.StateName, CCES.GayMarriage).filter(CCES.StateName == 'California').filter(CCES.GayMarriage == 'Support').count()\n",
    "AlabamaAgainstExample = session.query(CCES.StateName, CCES.GayMarriage).filter(CCES.StateName == 'California').filter(CCES.GayMarriage == 'Oppose').count()\n",
    "print(AlabamaTotalExample)\n",
    "print(AlabamaForExample)\n",
    "print(AlabamaAgainstExample)"
   ]
  },
  {
   "cell_type": "code",
   "execution_count": null,
   "metadata": {},
   "outputs": [],
   "source": []
  }
 ],
 "metadata": {
  "kernelspec": {
   "display_name": "Python [conda env:PythonData]",
   "language": "python",
   "name": "conda-env-PythonData-py"
  },
  "language_info": {
   "codemirror_mode": {
    "name": "ipython",
    "version": 3
   },
   "file_extension": ".py",
   "mimetype": "text/x-python",
   "name": "python",
   "nbconvert_exporter": "python",
   "pygments_lexer": "ipython3",
   "version": "3.6.5"
  }
 },
 "nbformat": 4,
 "nbformat_minor": 2
}
